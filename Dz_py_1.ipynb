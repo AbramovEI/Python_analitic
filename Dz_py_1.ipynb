{
 "cells": [
  {
   "cell_type": "code",
   "execution_count": 2,
   "id": "b209f3ed",
   "metadata": {},
   "outputs": [
    {
     "name": "stdout",
     "output_type": "stream",
     "text": [
      "hello\n"
     ]
    }
   ],
   "source": [
    "print(\"hello\")"
   ]
  },
  {
   "cell_type": "markdown",
   "id": "8dd64945",
   "metadata": {},
   "source": [
    "## задача 2\n",
    "На складе лежат разные фрукты в разном количестве.\n",
    "Нужно написать функцию, которая на вход принимает любое количество названий фруктов и их количество, а возвращает общее количество фруктов на складе"
   ]
  },
  {
   "cell_type": "code",
   "execution_count": 4,
   "id": "da50e9f1",
   "metadata": {},
   "outputs": [
    {
     "data": {
      "text/plain": [
       "'Total fruits: 23'"
      ]
     },
     "execution_count": 4,
     "metadata": {},
     "output_type": "execute_result"
    }
   ],
   "source": [
    "def fr(**kwargs):\n",
    "    total_frut = sum(kwargs.values())\n",
    "    return f'Total fruits: {total_frut}'\n",
    "fr(яблоки = 10, манго =8, арбуз = 5)"
   ]
  },
  {
   "cell_type": "markdown",
   "id": "fc085c14",
   "metadata": {},
   "source": [
    "## Задача 3\n",
    "Дан список с затратами на рекламу. Но в данных есть ошибки, некоторые затраты имеют отрицательную величину. Удалите такие значения из списка и посчитайте суммарные затраты\n",
    "[100, 125, -90, 345, 655, -1, 0, 200]\n",
    "Используйте list comprehensions"
   ]
  },
  {
   "cell_type": "code",
   "execution_count": 6,
   "id": "1d89c0e5",
   "metadata": {},
   "outputs": [],
   "source": [
    "price = [100, 125, -90, 345, 655, -1, 0, 200]\n",
    "def sum_price():\n",
    "    sum_pr = sum([i for i in price if i > 0 ])\n",
    "    return sum_pr"
   ]
  },
  {
   "cell_type": "code",
   "execution_count": 8,
   "id": "80f2c8d1",
   "metadata": {},
   "outputs": [
    {
     "data": {
      "text/plain": [
       "1425"
      ]
     },
     "execution_count": 8,
     "metadata": {},
     "output_type": "execute_result"
    }
   ],
   "source": [
    "sum_price(price)"
   ]
  },
  {
   "cell_type": "markdown",
   "id": "63448a11",
   "metadata": {},
   "source": [
    "## Задача 4\n",
    "Даны два списка.\n",
    "Дата покупки\n",
    "['2021-09-14', '2021-12-15', '2021-09-08', '2021-12-05', '2021-10-09', '2021-09-30', '2021-12-22', '2021-11-29', '2021-12-24', '2021-11-26', '2021-10-27', '2021-12-18', '2021-11-09', '2021-11-23', '2021-09-27', '2021-10-02', '2021-12-27', '2021-09-20', '2021-12-13', '2021-11-01', '2021-11-09', '2021-12-06', '2021-12-08', '2021-10-09', '2021-10-31', '2021-09-30', '2021-11-09', '2021-12-13', '2021-10-26', '2021-12-09']\n",
    "Суммы покупок по датам\n",
    "[1270, 8413, 9028, 3703, 5739, 4095, 295, 4944, 5723, 3701, 4471, 651, 7037, 4274, 6275, 4988, 6930, 2971, 6592, 2004, 2822, 519, 3406, 2732, 5015, 2008, 316, 6333, 5700, 2887]"
   ]
  },
  {
   "cell_type": "markdown",
   "id": "c3324127",
   "metadata": {},
   "source": [
    "### Пукт 1\n",
    "Найдите, какая выручка у компании в ноябре\n",
    "Используйте list comprehensions"
   ]
  },
  {
   "cell_type": "code",
   "execution_count": null,
   "id": "58070ccb",
   "metadata": {},
   "outputs": [],
   "source": [
    "data = ['2021-09-14', '2021-12-15', '2021-09-08', '2021-12-05', '2021-10-09', '2021-09-30', '2021-12-22', '2021-11-29', '2021-12-24', '2021-11-26', '2021-10-27', '2021-12-18', '2021-11-09', '2021-11-23', '2021-09-27', '2021-10-02', '2021-12-27', '2021-09-20', '2021-12-13', '2021-11-01', '2021-11-09', '2021-12-06', '2021-12-08', '2021-10-09', '2021-10-31', '2021-09-30', '2021-11-09', '2021-12-13', '2021-10-26', '2021-12-09']\n",
    "price = [1270, 8413, 9028, 3703, 5739, 4095, 295, 4944, 5723, 3701, 4471, 651, 7037, 4274, 6275, 4988, 6930, 2971, 6592, 2004, 2822, 519, 3406, 2732, 5015, 2008, 316, 6333, 5700, 2887]\n",
    "\n",
    "def november():\n",
    "    revenue = sum([price[i] for i in range(len(date)-1) if \\\"-11\\\" in date[i]])\n",
    "    print(revenue)"
   ]
  },
  {
   "cell_type": "markdown",
   "id": "a212798e",
   "metadata": {},
   "source": [
    "### пукнт 2\n",
    "Найдите выручку компании в зависимости от месяца\n",
    "Для этого напишите функцию, которая на вход принимает список с датами и список с выручкой, а на выходе словарь, где ключи - это месяцы, а значения - это выручка.\n",
    "Используйте аннотирование типов."
   ]
  },
  {
   "cell_type": "code",
   "execution_count": 13,
   "id": "47c007df",
   "metadata": {},
   "outputs": [],
   "source": [
    "def profits(data1: list, data2: list) -> dict:\n",
    "    profits = {}\n",
    "    for i in range(len(data1)):\n",
    "        if date1[i].split('-')[1] in profits.keys():\n",
    "            profits[date2[i].split('-')[1]] += price[i]\n",
    "        else:\n",
    "            profits[date2[i].split('-')[1]] = price[i]\n",
    "            return profits\n",
    "        print(profits(date, price))"
   ]
  },
  {
   "cell_type": "code",
   "execution_count": 17,
   "id": "5e89506c",
   "metadata": {},
   "outputs": [
    {
     "ename": "NameError",
     "evalue": "name 'date' is not defined",
     "output_type": "error",
     "traceback": [
      "\u001b[1;31m---------------------------------------------------------------------------\u001b[0m",
      "\u001b[1;31mNameError\u001b[0m                                 Traceback (most recent call last)",
      "\u001b[1;32m~\\AppData\\Local\\Temp\\ipykernel_1248\\232470137.py\u001b[0m in \u001b[0;36m<module>\u001b[1;34m\u001b[0m\n\u001b[0;32m      1\u001b[0m \u001b[0mdata\u001b[0m \u001b[1;33m=\u001b[0m \u001b[1;33m[\u001b[0m\u001b[1;34m'2021-09-14'\u001b[0m\u001b[1;33m,\u001b[0m \u001b[1;34m'2021-12-15'\u001b[0m\u001b[1;33m,\u001b[0m \u001b[1;34m'2021-09-08'\u001b[0m\u001b[1;33m,\u001b[0m \u001b[1;34m'2021-12-05'\u001b[0m\u001b[1;33m,\u001b[0m \u001b[1;34m'2021-10-09'\u001b[0m\u001b[1;33m,\u001b[0m \u001b[1;34m'2021-09-30'\u001b[0m\u001b[1;33m,\u001b[0m \u001b[1;34m'2021-12-22'\u001b[0m\u001b[1;33m,\u001b[0m \u001b[1;34m'2021-11-29'\u001b[0m\u001b[1;33m,\u001b[0m \u001b[1;34m'2021-12-24'\u001b[0m\u001b[1;33m,\u001b[0m \u001b[1;34m'2021-11-26'\u001b[0m\u001b[1;33m,\u001b[0m \u001b[1;34m'2021-10-27'\u001b[0m\u001b[1;33m,\u001b[0m \u001b[1;34m'2021-12-18'\u001b[0m\u001b[1;33m,\u001b[0m \u001b[1;34m'2021-11-09'\u001b[0m\u001b[1;33m,\u001b[0m \u001b[1;34m'2021-11-23'\u001b[0m\u001b[1;33m,\u001b[0m \u001b[1;34m'2021-09-27'\u001b[0m\u001b[1;33m,\u001b[0m \u001b[1;34m'2021-10-02'\u001b[0m\u001b[1;33m,\u001b[0m \u001b[1;34m'2021-12-27'\u001b[0m\u001b[1;33m,\u001b[0m \u001b[1;34m'2021-09-20'\u001b[0m\u001b[1;33m,\u001b[0m \u001b[1;34m'2021-12-13'\u001b[0m\u001b[1;33m,\u001b[0m \u001b[1;34m'2021-11-01'\u001b[0m\u001b[1;33m,\u001b[0m \u001b[1;34m'2021-11-09'\u001b[0m\u001b[1;33m,\u001b[0m \u001b[1;34m'2021-12-06'\u001b[0m\u001b[1;33m,\u001b[0m \u001b[1;34m'2021-12-08'\u001b[0m\u001b[1;33m,\u001b[0m \u001b[1;34m'2021-10-09'\u001b[0m\u001b[1;33m,\u001b[0m \u001b[1;34m'2021-10-31'\u001b[0m\u001b[1;33m,\u001b[0m \u001b[1;34m'2021-09-30'\u001b[0m\u001b[1;33m,\u001b[0m \u001b[1;34m'2021-11-09'\u001b[0m\u001b[1;33m,\u001b[0m \u001b[1;34m'2021-12-13'\u001b[0m\u001b[1;33m,\u001b[0m \u001b[1;34m'2021-10-26'\u001b[0m\u001b[1;33m,\u001b[0m \u001b[1;34m'2021-12-09'\u001b[0m\u001b[1;33m]\u001b[0m\u001b[1;33m\u001b[0m\u001b[1;33m\u001b[0m\u001b[0m\n\u001b[0;32m      2\u001b[0m \u001b[0mprice\u001b[0m \u001b[1;33m=\u001b[0m \u001b[1;33m[\u001b[0m\u001b[1;36m1270\u001b[0m\u001b[1;33m,\u001b[0m \u001b[1;36m8413\u001b[0m\u001b[1;33m,\u001b[0m \u001b[1;36m9028\u001b[0m\u001b[1;33m,\u001b[0m \u001b[1;36m3703\u001b[0m\u001b[1;33m,\u001b[0m \u001b[1;36m5739\u001b[0m\u001b[1;33m,\u001b[0m \u001b[1;36m4095\u001b[0m\u001b[1;33m,\u001b[0m \u001b[1;36m295\u001b[0m\u001b[1;33m,\u001b[0m \u001b[1;36m4944\u001b[0m\u001b[1;33m,\u001b[0m \u001b[1;36m5723\u001b[0m\u001b[1;33m,\u001b[0m \u001b[1;36m3701\u001b[0m\u001b[1;33m,\u001b[0m \u001b[1;36m4471\u001b[0m\u001b[1;33m,\u001b[0m \u001b[1;36m651\u001b[0m\u001b[1;33m,\u001b[0m \u001b[1;36m7037\u001b[0m\u001b[1;33m,\u001b[0m \u001b[1;36m4274\u001b[0m\u001b[1;33m,\u001b[0m \u001b[1;36m6275\u001b[0m\u001b[1;33m,\u001b[0m \u001b[1;36m4988\u001b[0m\u001b[1;33m,\u001b[0m \u001b[1;36m6930\u001b[0m\u001b[1;33m,\u001b[0m \u001b[1;36m2971\u001b[0m\u001b[1;33m,\u001b[0m \u001b[1;36m6592\u001b[0m\u001b[1;33m,\u001b[0m \u001b[1;36m2004\u001b[0m\u001b[1;33m,\u001b[0m \u001b[1;36m2822\u001b[0m\u001b[1;33m,\u001b[0m \u001b[1;36m519\u001b[0m\u001b[1;33m,\u001b[0m \u001b[1;36m3406\u001b[0m\u001b[1;33m,\u001b[0m \u001b[1;36m2732\u001b[0m\u001b[1;33m,\u001b[0m \u001b[1;36m5015\u001b[0m\u001b[1;33m,\u001b[0m \u001b[1;36m2008\u001b[0m\u001b[1;33m,\u001b[0m \u001b[1;36m316\u001b[0m\u001b[1;33m,\u001b[0m \u001b[1;36m6333\u001b[0m\u001b[1;33m,\u001b[0m \u001b[1;36m5700\u001b[0m\u001b[1;33m,\u001b[0m \u001b[1;36m2887\u001b[0m\u001b[1;33m]\u001b[0m\u001b[1;33m\u001b[0m\u001b[1;33m\u001b[0m\u001b[0m\n\u001b[1;32m----> 3\u001b[1;33m \u001b[0mprofits\u001b[0m\u001b[1;33m(\u001b[0m\u001b[0mdata\u001b[0m\u001b[1;33m,\u001b[0m \u001b[0mprice\u001b[0m\u001b[1;33m)\u001b[0m\u001b[1;33m\u001b[0m\u001b[1;33m\u001b[0m\u001b[0m\n\u001b[0m",
      "\u001b[1;32m~\\AppData\\Local\\Temp\\ipykernel_1248\\1765306554.py\u001b[0m in \u001b[0;36mprofits\u001b[1;34m(data1, data2)\u001b[0m\n\u001b[0;32m      2\u001b[0m     \u001b[0mprofits\u001b[0m \u001b[1;33m=\u001b[0m \u001b[1;33m{\u001b[0m\u001b[1;33m}\u001b[0m\u001b[1;33m\u001b[0m\u001b[1;33m\u001b[0m\u001b[0m\n\u001b[0;32m      3\u001b[0m     \u001b[1;32mfor\u001b[0m \u001b[0mi\u001b[0m \u001b[1;32min\u001b[0m \u001b[0mrange\u001b[0m\u001b[1;33m(\u001b[0m\u001b[0mlen\u001b[0m\u001b[1;33m(\u001b[0m\u001b[0mdata1\u001b[0m\u001b[1;33m)\u001b[0m\u001b[1;33m)\u001b[0m\u001b[1;33m:\u001b[0m\u001b[1;33m\u001b[0m\u001b[1;33m\u001b[0m\u001b[0m\n\u001b[1;32m----> 4\u001b[1;33m         \u001b[1;32mif\u001b[0m \u001b[0mdate\u001b[0m\u001b[1;33m[\u001b[0m\u001b[0mi\u001b[0m\u001b[1;33m]\u001b[0m\u001b[1;33m.\u001b[0m\u001b[0msplit\u001b[0m\u001b[1;33m(\u001b[0m\u001b[1;34m'-'\u001b[0m\u001b[1;33m)\u001b[0m\u001b[1;33m[\u001b[0m\u001b[1;36m1\u001b[0m\u001b[1;33m]\u001b[0m \u001b[1;32min\u001b[0m \u001b[0mprofits\u001b[0m\u001b[1;33m.\u001b[0m\u001b[0mkeys\u001b[0m\u001b[1;33m(\u001b[0m\u001b[1;33m)\u001b[0m\u001b[1;33m:\u001b[0m\u001b[1;33m\u001b[0m\u001b[1;33m\u001b[0m\u001b[0m\n\u001b[0m\u001b[0;32m      5\u001b[0m             \u001b[0mprofits\u001b[0m\u001b[1;33m[\u001b[0m\u001b[0mdate\u001b[0m\u001b[1;33m[\u001b[0m\u001b[0mi\u001b[0m\u001b[1;33m]\u001b[0m\u001b[1;33m.\u001b[0m\u001b[0msplit\u001b[0m\u001b[1;33m(\u001b[0m\u001b[1;34m'-'\u001b[0m\u001b[1;33m)\u001b[0m\u001b[1;33m[\u001b[0m\u001b[1;36m1\u001b[0m\u001b[1;33m]\u001b[0m\u001b[1;33m]\u001b[0m \u001b[1;33m+=\u001b[0m \u001b[0mprice\u001b[0m\u001b[1;33m[\u001b[0m\u001b[0mi\u001b[0m\u001b[1;33m]\u001b[0m\u001b[1;33m\u001b[0m\u001b[1;33m\u001b[0m\u001b[0m\n\u001b[0;32m      6\u001b[0m         \u001b[1;32melse\u001b[0m\u001b[1;33m:\u001b[0m\u001b[1;33m\u001b[0m\u001b[1;33m\u001b[0m\u001b[0m\n",
      "\u001b[1;31mNameError\u001b[0m: name 'date' is not defined"
     ]
    }
   ],
   "source": [
    "data = ['2021-09-14', '2021-12-15', '2021-09-08', '2021-12-05', '2021-10-09', '2021-09-30', '2021-12-22', '2021-11-29', '2021-12-24', '2021-11-26', '2021-10-27', '2021-12-18', '2021-11-09', '2021-11-23', '2021-09-27', '2021-10-02', '2021-12-27', '2021-09-20', '2021-12-13', '2021-11-01', '2021-11-09', '2021-12-06', '2021-12-08', '2021-10-09', '2021-10-31', '2021-09-30', '2021-11-09', '2021-12-13', '2021-10-26', '2021-12-09']\n",
    "price = [1270, 8413, 9028, 3703, 5739, 4095, 295, 4944, 5723, 3701, 4471, 651, 7037, 4274, 6275, 4988, 6930, 2971, 6592, 2004, 2822, 519, 3406, 2732, 5015, 2008, 316, 6333, 5700, 2887]\n",
    "profits(data, price)"
   ]
  },
  {
   "cell_type": "code",
   "execution_count": null,
   "id": "703ad9c2",
   "metadata": {},
   "outputs": [],
   "source": []
  },
  {
   "cell_type": "code",
   "execution_count": null,
   "id": "0812f100",
   "metadata": {},
   "outputs": [],
   "source": []
  },
  {
   "cell_type": "code",
   "execution_count": null,
   "id": "f0fa4dbc",
   "metadata": {},
   "outputs": [],
   "source": []
  },
  {
   "cell_type": "code",
   "execution_count": null,
   "id": "b0302e58",
   "metadata": {},
   "outputs": [],
   "source": []
  },
  {
   "cell_type": "code",
   "execution_count": null,
   "id": "9779dcb1",
   "metadata": {},
   "outputs": [],
   "source": []
  },
  {
   "cell_type": "code",
   "execution_count": null,
   "id": "bc96c953",
   "metadata": {},
   "outputs": [],
   "source": []
  },
  {
   "cell_type": "code",
   "execution_count": null,
   "id": "cb12028b",
   "metadata": {},
   "outputs": [],
   "source": []
  }
 ],
 "metadata": {
  "kernelspec": {
   "display_name": "Python 3 (ipykernel)",
   "language": "python",
   "name": "python3"
  },
  "language_info": {
   "codemirror_mode": {
    "name": "ipython",
    "version": 3
   },
   "file_extension": ".py",
   "mimetype": "text/x-python",
   "name": "python",
   "nbconvert_exporter": "python",
   "pygments_lexer": "ipython3",
   "version": "3.9.13"
  }
 },
 "nbformat": 4,
 "nbformat_minor": 5
}
